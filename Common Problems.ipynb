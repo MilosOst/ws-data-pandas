{
 "cells": [
  {
   "cell_type": "code",
   "execution_count": null,
   "id": "d89b2369",
   "metadata": {},
   "outputs": [],
   "source": [
    "from __future__ import annotations\n",
    "from haversine import haversine\n",
    "import pandas as pd\n",
    "import csv\n",
    "import math"
   ]
  },
  {
   "cell_type": "markdown",
   "id": "c9f4b107",
   "metadata": {},
   "source": [
    "# 1. Cleanup"
   ]
  },
  {
   "cell_type": "markdown",
   "id": "9142c747",
   "metadata": {},
   "source": [
    "### Data before cleanup:"
   ]
  },
  {
   "cell_type": "code",
   "execution_count": null,
   "id": "a01c9345",
   "metadata": {},
   "outputs": [],
   "source": [
    "pd.read_csv('./data/DataSample.csv')"
   ]
  },
  {
   "cell_type": "markdown",
   "id": "97f026ac",
   "metadata": {},
   "source": [
    "#### Place the data into a dictionary to filter it for duplicates"
   ]
  },
  {
   "cell_type": "code",
   "execution_count": null,
   "id": "b0061630",
   "metadata": {},
   "outputs": [],
   "source": [
    "def filter_data(file: str) -> dict[str, list]:\n",
    "    \"\"\"Returns a dictionary of the data with the suspicious entries filtered out\"\"\"\n",
    "    raw_data = pd.read_csv(file)\n",
    "    seen = {}\n",
    "    \n",
    "    for index, row in raw_data.iterrows():\n",
    "        formatted = f'{row[\" TimeSt\"]}, {row[\"Latitude\"]} {row[\"Longitude\"]}'\n",
    "        \n",
    "        if formatted in seen:\n",
    "            seen[formatted] = []\n",
    "        else:\n",
    "            seen.setdefault(formatted, []).append(row)\n",
    "    return seen"
   ]
  },
  {
   "cell_type": "markdown",
   "id": "74990487",
   "metadata": {},
   "source": [
    "#### After filtering the data, write it to a new file"
   ]
  },
  {
   "cell_type": "code",
   "execution_count": null,
   "id": "335eac96",
   "metadata": {},
   "outputs": [],
   "source": [
    "def cleanup(file: str) -> None:\n",
    "    \"\"\"Filter the data from <file> and write it to a new file\"\"\"\n",
    "    filtered_data = filter_data(file)\n",
    "    \n",
    "    with open('./data/FilteredDataSample.csv', 'w') as f:\n",
    "        csv_writer = csv.writer(f)\n",
    "        header = ['_ID', ' TimeSt', 'Country', 'Province', 'City', 'Latitude', 'Longitude']\n",
    "        csv_writer.writerow(header)\n",
    "        \n",
    "        for key in filtered_data:\n",
    "            if filtered_data[key]:\n",
    "                csv_writer.writerows(filtered_data[key])"
   ]
  },
  {
   "cell_type": "code",
   "execution_count": null,
   "id": "0b12ab03",
   "metadata": {},
   "outputs": [],
   "source": [
    "cleanup('./data/DataSample.csv')"
   ]
  },
  {
   "cell_type": "markdown",
   "id": "9410a369",
   "metadata": {},
   "source": [
    "### Data after cleanup:"
   ]
  },
  {
   "cell_type": "code",
   "execution_count": null,
   "id": "095ed2c8",
   "metadata": {},
   "outputs": [],
   "source": [
    "pd.read_csv('./data/FilteredDataSample.csv')"
   ]
  },
  {
   "cell_type": "markdown",
   "id": "a65c9790",
   "metadata": {},
   "source": [
    "# 2. Label"
   ]
  },
  {
   "cell_type": "code",
   "execution_count": null,
   "id": "1f133d70",
   "metadata": {},
   "outputs": [],
   "source": [
    "def get_poi_data(file: str) -> list[dict]:\n",
    "    \"\"\"Returns the list of POIs with their information\"\"\"\n",
    "    raw_data = pd.read_csv(file)\n",
    "    poi_list = []\n",
    "    \n",
    "    for index, row in raw_data.iterrows():\n",
    "        poi_list.append({'id': row['POIID'], 'lat': row[' Latitude'], 'lon': row['Longitude']})\n",
    "    return poi_list\n",
    "\n",
    "def get_closest_poi(request, poi_list: list[dict]) -> tuple[dict, float]:\n",
    "    \"\"\"Returns the closest POI and its distance to <request>\"\"\"\n",
    "    # Temporarily set closest POI and distance to a large value\n",
    "    closest_poi = poi_list[0]\n",
    "    closest_distance = 1000000 # No distance will be greater than this\n",
    "    request_coords = (request['Latitude'], request['Longitude'])\n",
    "\n",
    "    for poi in poi_list:\n",
    "            poi_coords = (poi['lat'], poi['lon'])\n",
    "            distance = haversine(request_coords, poi_coords)\n",
    "            \n",
    "            if distance < closest_distance:\n",
    "                closest_poi = poi\n",
    "                closest_distance = distance\n",
    "    return (closest_poi, distance)\n",
    "    \n",
    "    \n",
    "def label(file: str) -> None:\n",
    "    \"\"\"Assign each request from <file> to it's closest POI\"\"\"\n",
    "    poi_list = get_poi_data('./data/POIList.csv')\n",
    "    \n",
    "    df = pd.read_csv(file)\n",
    "    closest_poi_list = []\n",
    "    poi_distances = []\n",
    "    \n",
    "    for index, row in df.iterrows():\n",
    "        closest_info = get_closest_poi(row, poi_list)\n",
    "        closest_poi_list.append(closest_info[0]['id'])\n",
    "        poi_distances.append(closest_info[1])\n",
    "        \n",
    "\n",
    "    \n",
    "    # Add column indicating the id of the closest POI\n",
    "    df['ClosestPOI'] = closest_poi_list\n",
    "    df['POIDistance'] = poi_distances\n",
    "    df.to_csv('./data/FilteredDataSample.csv')\n",
    "        "
   ]
  },
  {
   "cell_type": "code",
   "execution_count": null,
   "id": "738635f6",
   "metadata": {},
   "outputs": [],
   "source": [
    "label('./data/FilteredDataSample.csv')"
   ]
  },
  {
   "cell_type": "markdown",
   "id": "c3b596a9",
   "metadata": {},
   "source": [
    "### After labeling:"
   ]
  },
  {
   "cell_type": "code",
   "execution_count": null,
   "id": "7d3c9768",
   "metadata": {},
   "outputs": [],
   "source": [
    "pd.read_csv('./data/FilteredDataSample.csv')"
   ]
  },
  {
   "cell_type": "markdown",
   "id": "95b565c8",
   "metadata": {},
   "source": [
    "# 3. Analysis"
   ]
  },
  {
   "cell_type": "code",
   "execution_count": null,
   "id": "60f2aec8",
   "metadata": {},
   "outputs": [],
   "source": [
    "def get_poi_data(file: str) -> dict[str, list[float]]:\n",
    "    \"\"\"\n",
    "    Returns a dictionary with the keys corresponding to \n",
    "    the POI id's and the values as lists of the distances to the requests\n",
    "    \"\"\"\n",
    "    df = pd.read_csv(file)\n",
    "    \n",
    "    poi_data = {}\n",
    "    for index, row in df.iterrows():\n",
    "        closest_poi = row['ClosestPOI']\n",
    "        distance = row['POIDistance']\n",
    "        poi_data.setdefault(closest_poi, []).append(distance)\n",
    "    \n",
    "    return poi_data\n",
    "\n",
    "def get_average(data: list[float]) -> float:\n",
    "    \"\"\"Returns the average of a list\"\"\"\n",
    "    return sum(data) / len(data)\n",
    "\n",
    "def get_std_dev(data: list[float]) -> float:\n",
    "    \"\"\"Returns the standard deviation of a list\"\"\"\n",
    "    average = get_average(data)\n",
    "    deviations = [(distance - average) ** 2 for distance in data]\n",
    "    variance = sum(deviations) / len(data)\n",
    "    \n",
    "    return math.sqrt(variance)"
   ]
  },
  {
   "cell_type": "markdown",
   "id": "79a4e8da",
   "metadata": {},
   "source": [
    "### Results"
   ]
  },
  {
   "cell_type": "code",
   "execution_count": null,
   "id": "a096b28b",
   "metadata": {},
   "outputs": [],
   "source": [
    "poi_data = get_poi_data('./data/FilteredDataSample.csv')\n",
    "\n",
    "for poi in poi_data:\n",
    "    distances = poi_data[poi]\n",
    "    \n",
    "    average = get_average(distances)\n",
    "    std_dev = get_std_dev(distances)\n",
    "    \n",
    "    print(f'''\n",
    "    POI: {poi}\n",
    "    Average Distance: {format(average, \".2f\")}\n",
    "    Standard Deviation: {format(std_dev, \".2f\")}\n",
    "    ''')"
   ]
  }
 ],
 "metadata": {
  "kernelspec": {
   "display_name": "Python 3 (ipykernel)",
   "language": "python",
   "name": "python3"
  },
  "language_info": {
   "codemirror_mode": {
    "name": "ipython",
    "version": 3
   },
   "file_extension": ".py",
   "mimetype": "text/x-python",
   "name": "python",
   "nbconvert_exporter": "python",
   "pygments_lexer": "ipython3",
   "version": "3.9.12"
  }
 },
 "nbformat": 4,
 "nbformat_minor": 5
}
